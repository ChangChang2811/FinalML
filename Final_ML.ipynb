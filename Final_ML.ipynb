{
 "cells": [
  {
   "cell_type": "markdown",
   "id": "7ace265f",
   "metadata": {},
   "source": [
    "### Tên dataset được sử dụng : Churn Modelling \n",
    "### Mô tả : Dataset chưa thông tin của khách hàng và biến mục tiêu là giá trị nhị phân thể hiện khách hàng có còn là khách hàng của ngân hàng nữa hay không "
   ]
  },
  {
   "cell_type": "code",
   "execution_count": null,
   "id": "97b5fa89",
   "metadata": {},
   "outputs": [],
   "source": [
    "import pandas as pd\n",
    "import numpy as np"
   ]
  },
  {
   "cell_type": "code",
   "execution_count": 14,
   "id": "c7419559",
   "metadata": {},
   "outputs": [
    {
     "name": "stdout",
     "output_type": "stream",
     "text": [
      "(10000, 14)\n"
     ]
    }
   ],
   "source": [
    "filename='Churn_Modelling.csv'\n",
    "df = pd.read_csv(filename)\n",
    "df.head(5)\n",
    "print(df.shape)"
   ]
  },
  {
   "cell_type": "code",
   "execution_count": 15,
   "id": "c6f122f6",
   "metadata": {},
   "outputs": [],
   "source": [
    "# Loại bỏ cột \"customerID\" khỏi dữ liệu\n",
    "df = df.drop(\"CustomerId\", axis=1)\n",
    "df = df.drop(\"RowNumber\", axis=1)"
   ]
  },
  {
   "cell_type": "code",
   "execution_count": 16,
   "id": "16897a83",
   "metadata": {},
   "outputs": [],
   "source": [
    "name=list(df.columns)"
   ]
  },
  {
   "cell_type": "code",
   "execution_count": 17,
   "id": "ec82dd29",
   "metadata": {},
   "outputs": [
    {
     "name": "stdout",
     "output_type": "stream",
     "text": [
      "Surname             object\n",
      "CreditScore          int64\n",
      "Geography           object\n",
      "Gender              object\n",
      "Age                  int64\n",
      "Tenure               int64\n",
      "Balance            float64\n",
      "NumOfProducts        int64\n",
      "HasCrCard            int64\n",
      "IsActiveMember       int64\n",
      "EstimatedSalary    float64\n",
      "Exited               int64\n",
      "dtype: object\n"
     ]
    }
   ],
   "source": [
    "types =df.dtypes\n",
    "print(types)"
   ]
  },
  {
   "cell_type": "code",
   "execution_count": 18,
   "id": "23d67043",
   "metadata": {},
   "outputs": [],
   "source": [
    "# Xử lý giá trị thiếu (nếu có)\n",
    "df.dropna(inplace=True)"
   ]
  },
  {
   "cell_type": "code",
   "execution_count": null,
   "id": "f9e38244",
   "metadata": {},
   "outputs": [],
   "source": []
  },
  {
   "cell_type": "code",
   "execution_count": 19,
   "id": "4bae233a",
   "metadata": {},
   "outputs": [],
   "source": [
    "from sklearn.preprocessing import LabelEncoder\n",
    "le = LabelEncoder()\n",
    "for i in range(0,len(types)):\n",
    "    if types[i]=='object':\n",
    "            le.fit_transform(df[name[i]])\n",
    "            df[name[i]]=le.transform(df[name[i]])"
   ]
  },
  {
   "cell_type": "code",
   "execution_count": 20,
   "id": "5b6a2581",
   "metadata": {},
   "outputs": [
    {
     "name": "stdout",
     "output_type": "stream",
     "text": [
      "[1.1150000e+03 6.1900000e+02 0.0000000e+00 0.0000000e+00 4.2000000e+01\n",
      " 2.0000000e+00 0.0000000e+00 1.0000000e+00 1.0000000e+00 1.0000000e+00\n",
      " 1.0134888e+05]\n",
      "1.0\n"
     ]
    }
   ],
   "source": [
    "data= df.values\n",
    "x= data[:,:-1]\n",
    "y= data[:,-1]\n",
    "print(x[0])\n",
    "print(y[0])"
   ]
  },
  {
   "cell_type": "code",
   "execution_count": 21,
   "id": "a7c32d17",
   "metadata": {},
   "outputs": [
    {
     "name": "stdout",
     "output_type": "stream",
     "text": [
      "[0.38041624 0.538      0.         0.         0.32432432 0.2\n",
      " 0.         0.         1.         1.         0.50673489]\n"
     ]
    }
   ],
   "source": [
    "from sklearn.preprocessing import MinMaxScaler\n",
    "scaler =MinMaxScaler()\n",
    "scaler.fit(x)\n",
    "X_scaler =scaler.transform(x)\n",
    "print(X_scaler[0])"
   ]
  },
  {
   "cell_type": "code",
   "execution_count": 23,
   "id": "2fb9540e",
   "metadata": {},
   "outputs": [
    {
     "name": "stdout",
     "output_type": "stream",
     "text": [
      "[0. 0. 1. ... 1. 1. 0.]\n"
     ]
    }
   ],
   "source": [
    "from sklearn.model_selection import train_test_split\n",
    "x_train,x_test,y_train,y_test=\\\n",
    "train_test_split(X_scaler,y,test_size=0.2,random_state=42)\n",
    "print(y_train)"
   ]
  },
  {
   "cell_type": "code",
   "execution_count": 24,
   "id": "d38e8f26",
   "metadata": {},
   "outputs": [],
   "source": [
    "from sklearn.linear_model import LogisticRegression\n",
    "from sklearn.neighbors import KNeighborsClassifier\n",
    "from sklearn.tree import DecisionTreeClassifier\n",
    "from sklearn.naive_bayes import GaussianNB\n",
    "from sklearn.model_selection import GridSearchCV\n"
   ]
  },
  {
   "cell_type": "code",
   "execution_count": 27,
   "id": "9197fde0",
   "metadata": {},
   "outputs": [
    {
     "name": "stdout",
     "output_type": "stream",
     "text": [
      "[0. 0. 0. ... 0. 0. 0.]\n",
      "[0. 0. 0. ... 1. 0. 0.]\n",
      "[0. 0. 0. ... 1. 0. 0.]\n",
      "[0. 0. 0. ... 0. 0. 0.]\n"
     ]
    }
   ],
   "source": [
    "# Initialize the models\n",
    "Logistic_reg = LogisticRegression()\n",
    "knn = KNeighborsClassifier(n_neighbors=3)  # You can adjust the number of neighbors (k) as needed\n",
    "tree=DecisionTreeClassifier()\n",
    "gaussian_nb = GaussianNB()\n",
    "\n",
    "# Train the models\n",
    "Logistic_reg.fit(x_train, y_train)\n",
    "knn.fit(x_train, y_train)\n",
    "tree.fit(x_train, y_train)\n",
    "gaussian_nb.fit(x_train, y_train)\n",
    "# Make predictions\n",
    "y_pred_log = Logistic_reg.predict(x_test)\n",
    "y_pred_knn = knn.predict(x_test)\n",
    "y_pred_tree= tree.predict(x_test)\n",
    "y_pred_gaussian = gaussian_nb.predict(x_test)\n",
    "print(y_pred_log)\n",
    "print(y_pred_knn)\n",
    "print(y_pred_tree)\n",
    "print(y_pred_gaussian)"
   ]
  },
  {
   "cell_type": "code",
   "execution_count": 30,
   "id": "33bc2aa0",
   "metadata": {},
   "outputs": [],
   "source": [
    "from sklearn.metrics import accuracy_score, precision_score, recall_score, f1_score\n",
    "\n",
    "def Evaluate(y_test, y_pred):\n",
    "    accuracy = accuracy_score(y_test, y_pred)\n",
    "    precision = precision_score(y_test, y_pred)\n",
    "    recall = recall_score(y_test, y_pred)\n",
    "    f1 = f1_score(y_test, y_pred)\n",
    "    print(f\"Accuracy: {accuracy}\")\n",
    "    print(f\"Precision: {precision}\")\n",
    "    print(f\"Recall: {recall}\")\n",
    "    print(f\"F1-score: {f1}\")\n"
   ]
  },
  {
   "cell_type": "code",
   "execution_count": 31,
   "id": "1cab8eaa",
   "metadata": {
    "scrolled": true
   },
   "outputs": [
    {
     "name": "stdout",
     "output_type": "stream",
     "text": [
      "LogisticRegression:\n",
      "Accuracy: 0.8145\n",
      "Precision: 0.5982142857142857\n",
      "Recall: 0.17048346055979643\n",
      "F1-score: 0.2653465346534653\n",
      "\n",
      "K-Nearest Neighbors:\n",
      "Accuracy: 0.7995\n",
      "Precision: 0.4844961240310077\n",
      "Recall: 0.31806615776081426\n",
      "F1-score: 0.38402457757296465\n",
      "\n",
      "DecisionTree\n",
      "Accuracy: 0.7785\n",
      "Precision: 0.4429223744292237\n",
      "Recall: 0.49363867684478374\n",
      "F1-score: 0.46690734055354993\n",
      "\n",
      "Gaussian:\n",
      "Accuracy: 0.8295\n",
      "Precision: 0.6884057971014492\n",
      "Recall: 0.24173027989821882\n",
      "F1-score: 0.3578154425612053\n"
     ]
    }
   ],
   "source": [
    "from sklearn.metrics import mean_absolute_error, mean_squared_error, r2_score\n",
    "\n",
    "# Evaluate Linear Regression\n",
    "print(\"LogisticRegression:\")\n",
    "Evaluate(y_test, y_pred_log)\n",
    "  \n",
    "# Evaluate K-Nearest Neighbors\n",
    "print(\"\\nK-Nearest Neighbors:\")\n",
    "Evaluate(y_test, y_pred_knn)\n",
    "\n",
    "# Evaluate DecisionTree\n",
    "print(\"\\nDecisionTree\")\n",
    "Evaluate(y_test, y_pred_tree)\n",
    "\n",
    "# Evaluate Gaussian\n",
    "print(\"\\nGaussian:\")\n",
    "Evaluate(y_test, y_pred_gaussian)\n"
   ]
  },
  {
   "cell_type": "markdown",
   "id": "64c92de1",
   "metadata": {},
   "source": [
    "### Ensemble Learing"
   ]
  },
  {
   "cell_type": "markdown",
   "id": "9efad5eb",
   "metadata": {},
   "source": [
    "### GradientBoostingClassifier"
   ]
  },
  {
   "cell_type": "code",
   "execution_count": 39,
   "id": "e927a7bb",
   "metadata": {
    "scrolled": true
   },
   "outputs": [
    {
     "name": "stdout",
     "output_type": "stream",
     "text": [
      "GradientBoostingClassifier:\n",
      "Accuracy: 0.856\n",
      "Precision: 0.6895306859205776\n",
      "Recall: 0.4860050890585242\n",
      "F1-score: 0.5701492537313433\n"
     ]
    }
   ],
   "source": [
    "from sklearn.ensemble import GradientBoostingClassifier\n",
    "clf_1 = GradientBoostingClassifier(n_estimators=100, learning_rate=1.0,max_depth=1, random_state=0).fit(x_train, y_train)\n",
    "y_pred= clf_1.predict(x_test)\n",
    "print(\"GradientBoostingClassifier:\")\n",
    "Evaluate(y_test, y_pred)"
   ]
  },
  {
   "cell_type": "markdown",
   "id": "aa2b78f8",
   "metadata": {},
   "source": [
    "### RandomForestClassifier"
   ]
  },
  {
   "cell_type": "code",
   "execution_count": 40,
   "id": "14541bc7",
   "metadata": {},
   "outputs": [
    {
     "name": "stdout",
     "output_type": "stream",
     "text": [
      "RandomForestClassifier:\n",
      "Accuracy: 0.8555\n",
      "Precision: 0.7363636363636363\n",
      "Recall: 0.4122137404580153\n",
      "F1-score: 0.5285481239804242\n"
     ]
    }
   ],
   "source": [
    "from sklearn.ensemble import RandomForestClassifier\n",
    "clf_2 = RandomForestClassifier(n_estimators=10, max_depth=None,min_samples_split=2, random_state=0).fit(x_train, y_train)\n",
    "y_pred= clf_2.predict(x_test)\n",
    "print(\"RandomForestClassifier:\")\n",
    "Evaluate(y_test, y_pred)"
   ]
  },
  {
   "cell_type": "markdown",
   "id": "6f44619c",
   "metadata": {},
   "source": [
    "### ExtraTreesClassifier"
   ]
  },
  {
   "cell_type": "code",
   "execution_count": 42,
   "id": "45c36d68",
   "metadata": {},
   "outputs": [
    {
     "name": "stdout",
     "output_type": "stream",
     "text": [
      "ExtraTreesClassifier:\n",
      "Accuracy: 0.851\n",
      "Precision: 0.7251184834123223\n",
      "Recall: 0.3893129770992366\n",
      "F1-score: 0.5066225165562914\n"
     ]
    }
   ],
   "source": [
    "from sklearn.ensemble import ExtraTreesClassifier\n",
    "clf_3 = ExtraTreesClassifier(n_estimators=10, max_depth=None,min_samples_split=2, random_state=0).fit(x_train, y_train)\n",
    "y_pred= clf_3.predict(x_test)\n",
    "print(\"ExtraTreesClassifier:\")\n",
    "Evaluate(y_test, y_pred)"
   ]
  },
  {
   "cell_type": "markdown",
   "id": "a7093afe",
   "metadata": {},
   "source": []
  },
  {
   "cell_type": "code",
   "execution_count": null,
   "id": "0253827b",
   "metadata": {},
   "outputs": [],
   "source": []
  },
  {
   "cell_type": "code",
   "execution_count": null,
   "id": "02ceebbc",
   "metadata": {},
   "outputs": [],
   "source": []
  },
  {
   "cell_type": "code",
   "execution_count": null,
   "id": "62f057d6",
   "metadata": {},
   "outputs": [],
   "source": []
  },
  {
   "cell_type": "markdown",
   "id": "c37ec339",
   "metadata": {},
   "source": []
  },
  {
   "cell_type": "code",
   "execution_count": null,
   "id": "0ac88657",
   "metadata": {},
   "outputs": [],
   "source": []
  },
  {
   "cell_type": "code",
   "execution_count": null,
   "id": "6b6d58fd",
   "metadata": {},
   "outputs": [],
   "source": []
  },
  {
   "cell_type": "code",
   "execution_count": null,
   "id": "55c8c636",
   "metadata": {},
   "outputs": [],
   "source": []
  },
  {
   "cell_type": "code",
   "execution_count": null,
   "id": "fcd51eaa",
   "metadata": {},
   "outputs": [],
   "source": []
  },
  {
   "cell_type": "code",
   "execution_count": null,
   "id": "9050ff1b",
   "metadata": {},
   "outputs": [],
   "source": []
  },
  {
   "cell_type": "code",
   "execution_count": null,
   "id": "4d0545e3",
   "metadata": {},
   "outputs": [],
   "source": []
  }
 ],
 "metadata": {
  "kernelspec": {
   "display_name": "Python 3 (ipykernel)",
   "language": "python",
   "name": "python3"
  },
  "language_info": {
   "codemirror_mode": {
    "name": "ipython",
    "version": 3
   },
   "file_extension": ".py",
   "mimetype": "text/x-python",
   "name": "python",
   "nbconvert_exporter": "python",
   "pygments_lexer": "ipython3",
   "version": "3.11.4"
  }
 },
 "nbformat": 4,
 "nbformat_minor": 5
}
