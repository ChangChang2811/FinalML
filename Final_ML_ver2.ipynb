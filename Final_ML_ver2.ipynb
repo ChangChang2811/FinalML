{
 "cells": [
  {
   "cell_type": "markdown",
   "id": "7ace265f",
   "metadata": {},
   "source": [
    "### Tên dataset được sử dụng : Churn Modelling \n",
    "### Mô tả : Dataset chưa thông tin của khách hàng và biến mục tiêu là giá trị nhị phân thể hiện khách hàng có còn là khách hàng của ngân hàng nữa hay không "
   ]
  },
  {
   "cell_type": "code",
   "execution_count": 13,
   "id": "97b5fa89",
   "metadata": {},
   "outputs": [],
   "source": [
    "import pandas as pd\n",
    "import numpy as np"
   ]
  },
  {
   "cell_type": "code",
   "execution_count": 14,
   "id": "c7419559",
   "metadata": {},
   "outputs": [
    {
     "name": "stdout",
     "output_type": "stream",
     "text": [
      "(10000, 14)\n"
     ]
    }
   ],
   "source": [
    "filename='Churn_Modelling.csv'\n",
    "df = pd.read_csv(filename)\n",
    "df.head(5)\n",
    "print(df.shape)"
   ]
  },
  {
   "cell_type": "code",
   "execution_count": 15,
   "id": "c6f122f6",
   "metadata": {},
   "outputs": [],
   "source": [
    "# Loại bỏ cột \"customerID\" khỏi dữ liệu\n",
    "df = df.drop(\"CustomerId\", axis=1)\n",
    "df = df.drop(\"RowNumber\", axis=1)"
   ]
  },
  {
   "cell_type": "code",
   "execution_count": 16,
   "id": "16897a83",
   "metadata": {},
   "outputs": [],
   "source": [
    "name=list(df.columns)"
   ]
  },
  {
   "cell_type": "code",
   "execution_count": 17,
   "id": "ec82dd29",
   "metadata": {},
   "outputs": [
    {
     "name": "stdout",
     "output_type": "stream",
     "text": [
      "Surname             object\n",
      "CreditScore          int64\n",
      "Geography           object\n",
      "Gender              object\n",
      "Age                  int64\n",
      "Tenure               int64\n",
      "Balance            float64\n",
      "NumOfProducts        int64\n",
      "HasCrCard            int64\n",
      "IsActiveMember       int64\n",
      "EstimatedSalary    float64\n",
      "Exited               int64\n",
      "dtype: object\n"
     ]
    }
   ],
   "source": [
    "types =df.dtypes\n",
    "print(types)"
   ]
  },
  {
   "cell_type": "code",
   "execution_count": 18,
   "id": "23d67043",
   "metadata": {},
   "outputs": [],
   "source": [
    "# Xử lý giá trị thiếu (nếu có)\n",
    "df.dropna(inplace=True)"
   ]
  },
  {
   "cell_type": "code",
   "execution_count": null,
   "id": "f9e38244",
   "metadata": {},
   "outputs": [],
   "source": []
  },
  {
   "cell_type": "code",
   "execution_count": 19,
   "id": "4bae233a",
   "metadata": {},
   "outputs": [],
   "source": [
    "from sklearn.preprocessing import LabelEncoder\n",
    "le = LabelEncoder()\n",
    "for i in range(0,len(types)):\n",
    "    if types[i]=='object':\n",
    "            le.fit_transform(df[name[i]])\n",
    "            df[name[i]]=le.transform(df[name[i]])"
   ]
  },
  {
   "cell_type": "code",
   "execution_count": 20,
   "id": "5b6a2581",
   "metadata": {},
   "outputs": [
    {
     "name": "stdout",
     "output_type": "stream",
     "text": [
      "[1.1150000e+03 6.1900000e+02 0.0000000e+00 0.0000000e+00 4.2000000e+01\n",
      " 2.0000000e+00 0.0000000e+00 1.0000000e+00 1.0000000e+00 1.0000000e+00\n",
      " 1.0134888e+05]\n",
      "1.0\n"
     ]
    }
   ],
   "source": [
    "data= df.values\n",
    "x= data[:,:-1]\n",
    "y= data[:,-1]\n",
    "print(x[0])\n",
    "print(y[0])"
   ]
  },
  {
   "cell_type": "code",
   "execution_count": 21,
   "id": "a7c32d17",
   "metadata": {},
   "outputs": [
    {
     "name": "stdout",
     "output_type": "stream",
     "text": [
      "[0.38041624 0.538      0.         0.         0.32432432 0.2\n",
      " 0.         0.         1.         1.         0.50673489]\n"
     ]
    }
   ],
   "source": [
    "from sklearn.preprocessing import MinMaxScaler\n",
    "scaler =MinMaxScaler()\n",
    "scaler.fit(x)\n",
    "X_scaler =scaler.transform(x)\n",
    "print(X_scaler[0])"
   ]
  },
  {
   "cell_type": "code",
   "execution_count": 22,
   "id": "2fb9540e",
   "metadata": {},
   "outputs": [
    {
     "name": "stdout",
     "output_type": "stream",
     "text": [
      "[0. 0. 1. ... 1. 1. 0.]\n"
     ]
    }
   ],
   "source": [
    "from sklearn.model_selection import train_test_split\n",
    "x_train,x_test,y_train,y_test=\\\n",
    "train_test_split(X_scaler,y,test_size=0.2,random_state=42)\n",
    "print(y_train)"
   ]
  },
  {
   "cell_type": "markdown",
   "id": "a37e05d6",
   "metadata": {},
   "source": [
    "# Feature Selection "
   ]
  },
  {
   "cell_type": "code",
   "execution_count": 23,
   "id": "f7d5e309",
   "metadata": {},
   "outputs": [
    {
     "name": "stdout",
     "output_type": "stream",
     "text": [
      "      Surname  CreditScore  Geography  Gender  Age  Tenure    Balance  \\\n",
      "0        1115          619          0       0   42       2       0.00   \n",
      "1        1177          608          2       0   41       1   83807.86   \n",
      "2        2040          502          0       0   42       8  159660.80   \n",
      "3         289          699          0       0   39       1       0.00   \n",
      "4        1822          850          2       0   43       2  125510.82   \n",
      "...       ...          ...        ...     ...  ...     ...        ...   \n",
      "9995     1999          771          0       1   39       5       0.00   \n",
      "9996     1336          516          0       1   35      10   57369.61   \n",
      "9997     1570          709          0       0   36       7       0.00   \n",
      "9998     2345          772          1       1   42       3   75075.31   \n",
      "9999     2751          792          0       0   28       4  130142.79   \n",
      "\n",
      "      NumOfProducts  HasCrCard  IsActiveMember  EstimatedSalary  Exited  \n",
      "0                 1          1               1        101348.88       1  \n",
      "1                 1          0               1        112542.58       0  \n",
      "2                 3          1               0        113931.57       1  \n",
      "3                 2          0               0         93826.63       0  \n",
      "4                 1          1               1         79084.10       0  \n",
      "...             ...        ...             ...              ...     ...  \n",
      "9995              2          1               0         96270.64       0  \n",
      "9996              1          1               1        101699.77       0  \n",
      "9997              1          0               1         42085.58       1  \n",
      "9998              2          1               0         92888.52       1  \n",
      "9999              1          1               0         38190.78       0  \n",
      "\n",
      "[10000 rows x 12 columns]\n"
     ]
    }
   ],
   "source": [
    "print(df)"
   ]
  },
  {
   "cell_type": "code",
   "execution_count": null,
   "id": "47be30f0",
   "metadata": {},
   "outputs": [],
   "source": [
    "/* Trước khi sử dụng các phương pháp để đánh giá các đặc trưng của bài toán thì chúng ta sẽ dùng kinh nghiệm và sự hiểu biết để \n",
    "tìm ra đâu là những đặc trưng quan trọng nhất.\n",
    "Muốn biết khách hàng có tiếp tục sử dụng dịch vụ của ngân hàng hay không thì những đặc trưng quan trọng ảnh hưởng lớn đến giá \n",
    "trị nhị phân của biến mục tiêu sẽ là : \n",
    "    1/ Tenure : số năm khách hàng gắn bó với ngân hàng\n",
    "    2/ Balance : Số dư trong tài khoản của khách hàng\n",
    "    3/ NumOfProducts : Số lượng sản phẩm của ngân hàng mà khách hàng đang sử dụng\n",
    "    4/ HasCrCard : là giá trị nhị phân thể hiện khách hàng có thẻ tín dụng của ngân hàng hay không \n",
    "    5/ IsActiveMember : là giá trị nhị phân thể hiệ khách hàng có phải là khách hàng tích cực đối với ngân hàng hay không\n",
    "    6/ EstimatedSalary : Mức lương ước tính bằng đô la của khách hàng\n",
    "*/"
   ]
  },
  {
   "cell_type": "code",
   "execution_count": 30,
   "id": "237510b4",
   "metadata": {},
   "outputs": [
    {
     "name": "stdout",
     "output_type": "stream",
     "text": [
      "--------Độ quan trọng của từng feature--------\n",
      "Đặc trưng: 1 Score: -0.14180813214529703\n",
      "Đặc trưng: 2 Score: -0.33534727261081426\n",
      "Đặc trưng: 3 Score: 0.21252504695714652\n",
      "Đặc trưng: 4 Score: -0.5383561261075653\n",
      "Đặc trưng: 5 Score: 5.087431658227561\n",
      "Đặc trưng: 6 Score: -0.140504147922081\n",
      "Đặc trưng: 7 Score: 1.1909985563716983\n",
      "Đặc trưng: 8 Score: -0.15236066296067025\n",
      "Đặc trưng: 9 Score: -0.009611248642201786\n",
      "Đặc trưng: 10 Score: -1.0503020594954455\n",
      "Đặc trưng: 11 Score: 0.06789603625315101\n",
      "\n",
      "--------Sắp xếp các feature theo thứ tự độ quan trọng tăng dần--------\n",
      "Đặc trưng 9: 0.009611248642201786\n",
      "Đặc trưng 11: 0.06789603625315101\n",
      "Đặc trưng 6: 0.140504147922081\n",
      "Đặc trưng 1: 0.14180813214529703\n",
      "Đặc trưng 8: 0.15236066296067025\n",
      "Đặc trưng 3: 0.21252504695714652\n",
      "Đặc trưng 2: 0.33534727261081426\n",
      "Đặc trưng 4: 0.5383561261075653\n",
      "Đặc trưng 10: 1.0503020594954455\n",
      "Đặc trưng 7: 1.1909985563716983\n",
      "Đặc trưng 5: 5.087431658227561\n"
     ]
    }
   ],
   "source": [
    "#1_Feature Important \n",
    "#Đánh giá feature dựa trên mô hình Hồi quy Logic\n",
    "from sklearn.linear_model import LogisticRegression\n",
    "model = LogisticRegression()\n",
    "model.fit(x_train, y_train)\n",
    "importance = model.coef_\n",
    "\n",
    "arr = importance.flatten()\n",
    "\n",
    "#Độ quan trọng vủa feature thể hiện bằng độ lớn giá trị tuyệt đối\n",
    "importance = np.abs(arr)\n",
    "\n",
    "print(\"--------Độ quan trọng của từng feature--------\")\n",
    "i = 1\n",
    "for v in enumerate(arr):\n",
    "    print(\"Đặc trưng:\",i,\"Score:\",arr[i-1])\n",
    "    i = i + 1\n",
    "\n",
    "print(\"\\n--------Sắp xếp các feature theo thứ tự độ quan trọng tăng dần--------\")\n",
    "indices = np.argsort(importance)\n",
    "idx = 0\n",
    "for i, idx in enumerate(indices):\n",
    "    print(f\"Đặc trưng {idx+1}: {importance[idx]}\")"
   ]
  },
  {
   "cell_type": "code",
   "execution_count": null,
   "id": "5b867386",
   "metadata": {},
   "outputs": [],
   "source": [
    "/*\n",
    "Khi dùng hàm coef_ (coefficients) thì chỉ đánh giá độ ảnh hưởng của một đặc trưng độc lập lên biến mục tiêu khi giữ các đặc \n",
    "trưng khác không đổi. Nếu có sự tương quan mạnh giữa các đặc trưng, hệ số có thể không phản ánh đúng độ quan trọng của từng đặc \n",
    "trưng một cách riêng biệt.\n",
    "Như trong kết quá ta thấy đặc trưng 9 ảnh hưởng đến kết quả của biến mục tiêu thấp nhất là hoàn toàn sai\n",
    "Cũng như đặc trưng 1 là tên của Khách hàng rõ ràng không hề ảnh hưởng gì đến việc khách hàng có tiếp tục sử dụng dịch vụ của\n",
    "ngân hàng hay không nhưng lại xếp thứ 3.\n",
    "*/"
   ]
  },
  {
   "cell_type": "code",
   "execution_count": 37,
   "id": "8bf9ae96",
   "metadata": {},
   "outputs": [
    {
     "name": "stdout",
     "output_type": "stream",
     "text": [
      "Selected Feature: 1\n",
      "Selected Feature: 5\n",
      "Selected Feature: 7\n",
      "Selected Feature: 11\n"
     ]
    }
   ],
   "source": [
    "#2_Univariate Selection\n",
    "from sklearn.feature_selection import SelectKBest\n",
    "from sklearn.feature_selection import chi2\n",
    "\n",
    "# Khởi tạo đối tượng SelectKBest với phương pháp kiểm định chi-square\n",
    "kbest = SelectKBest(score_func=chi2, k=4)\n",
    "\n",
    "# Áp dụng SelectKBest lên dữ liệu\n",
    "X_new = kbest.fit_transform(x, y)\n",
    "\n",
    "# Lấy chỉ số của các feature được chọn\n",
    "selected_features = kbest.get_support(indices=True)\n",
    "\n",
    "# In ra các feature được chọn\n",
    "for feature_idx in selected_features:\n",
    "    print(f\"Selected Feature: {feature_idx+1}\")"
   ]
  },
  {
   "cell_type": "code",
   "execution_count": null,
   "id": "c2a819ff",
   "metadata": {},
   "outputs": [],
   "source": [
    "/*\n",
    "Univariate Selection tính toán độ quan trọng của từng đặc trưng sau đó dựa vào hệ số k để in ra k đặc trưng có độ quan trọng \n",
    "cao nhất\n",
    "*/"
   ]
  },
  {
   "cell_type": "code",
   "execution_count": 38,
   "id": "19b22ad5",
   "metadata": {},
   "outputs": [
    {
     "name": "stdout",
     "output_type": "stream",
     "text": [
      "Selected Feature: 1\n",
      "Selected Feature: 2\n",
      "Selected Feature: 5\n",
      "Selected Feature: 7\n",
      "Selected Feature: 11\n"
     ]
    }
   ],
   "source": [
    "#3_L1 Regularization\n",
    "from sklearn.linear_model import Lasso\n",
    "\n",
    "lasso = Lasso(alpha=0.1)\n",
    "\n",
    "# Đào tạo mô hình trên dữ liệu\n",
    "lasso.fit(x, y)\n",
    "# Lấy hệ số của các feature\n",
    "feature_coef = lasso.coef_\n",
    "\n",
    "# Lấy chỉ số của các feature có hệ số khác 0\n",
    "selected_features = np.where(feature_coef != 0)[0]\n",
    "\n",
    "# In ra các feature được chọn\n",
    "for feature_idx in selected_features:\n",
    "    print(f\"Selected Feature: {feature_idx+1}\")"
   ]
  },
  {
   "cell_type": "code",
   "execution_count": null,
   "id": "ff2d7f91",
   "metadata": {},
   "outputs": [],
   "source": [
    "/*\n",
    "Ở phương pháp L1 Regularization này, sau khi huấn luyện mô hình Lasso Regression, những đặc trưng ít ảnh hưởng đến mô hình sẽ \n",
    "được đẩy giá trị của hệ số gần về 0 và các đặc trưng quan trọng thì ngược lại. Sau đó lấy giá trị tuyệt đối, hệ số của đặc trưng\n",
    "nào khác 0 thì đó là đặc trưng quan trọng được chọn\n",
    "*/"
   ]
  },
  {
   "cell_type": "code",
   "execution_count": 41,
   "id": "a46a54c8",
   "metadata": {},
   "outputs": [
    {
     "name": "stdout",
     "output_type": "stream",
     "text": [
      "Đặc trưng [ 7 11  1  2  5  3  4 10  9  6  8]: 0.5411\n",
      "Đặc trưng [ 7  2  5  3 10  4  9  8  6  1 11]: 0.4588\n"
     ]
    }
   ],
   "source": [
    "#4_Principal Component Analysis ( PCA ) \n",
    "from sklearn.decomposition import PCA\n",
    "import numpy as np\n",
    "\n",
    "# Khởi tạo đối tượng PCA với số đặc trưng được chọn là 2\n",
    "pca = PCA(n_components=2)\n",
    "\n",
    "# Áp dụng PCA lên dữ liệu\n",
    "X_new = pca.fit_transform(x)\n",
    "\n",
    "# Trích xuất độ quan trọng của các đặc trưng\n",
    "feature_importance = pca.explained_variance_ratio_\n",
    "\n",
    "# Trích xuất các thành phần chính\n",
    "components = pca.components_\n",
    "\n",
    "# Hiển thị đặc trưng và độ quan trọng tương ứng\n",
    "sorted_indices = np.argsort(feature_importance)[::-1]\n",
    "for i, idx in enumerate(sorted_indices):\n",
    "    importance = feature_importance[idx]\n",
    "    feature = components[idx]\n",
    "    feature_index = np.argsort(feature)[::-1]\n",
    "    print(f\"Đặc trưng {feature_index+1}: {importance:.4f}\")"
   ]
  },
  {
   "cell_type": "code",
   "execution_count": 13,
   "id": "d38e8f26",
   "metadata": {},
   "outputs": [],
   "source": [
    "from sklearn.linear_model import LogisticRegression\n",
    "from sklearn.neighbors import KNeighborsClassifier\n",
    "from sklearn.tree import DecisionTreeClassifier\n",
    "from sklearn.naive_bayes import GaussianNB\n",
    "from sklearn.model_selection import GridSearchCV\n"
   ]
  },
  {
   "cell_type": "code",
   "execution_count": 14,
   "id": "9197fde0",
   "metadata": {},
   "outputs": [
    {
     "name": "stdout",
     "output_type": "stream",
     "text": [
      "[0. 0. 0. ... 0. 0. 0.]\n",
      "[0. 0. 0. ... 1. 0. 0.]\n",
      "[0. 0. 0. ... 1. 0. 0.]\n",
      "[0. 0. 0. ... 0. 0. 0.]\n"
     ]
    }
   ],
   "source": [
    "# Initialize the models\n",
    "Logistic_reg = LogisticRegression()\n",
    "knn = KNeighborsClassifier(n_neighbors=3)  # You can adjust the number of neighbors (k) as needed\n",
    "tree=DecisionTreeClassifier()\n",
    "gaussian_nb = GaussianNB()\n",
    "\n",
    "# Train the models\n",
    "Logistic_reg.fit(x_train, y_train)\n",
    "knn.fit(x_train, y_train)\n",
    "tree.fit(x_train, y_train)\n",
    "gaussian_nb.fit(x_train, y_train)\n",
    "# Make predictions\n",
    "y_pred_log = Logistic_reg.predict(x_test)\n",
    "y_pred_knn = knn.predict(x_test)\n",
    "y_pred_tree= tree.predict(x_test)\n",
    "y_pred_gaussian = gaussian_nb.predict(x_test)\n",
    "print(y_pred_log)\n",
    "print(y_pred_knn)\n",
    "print(y_pred_tree)\n",
    "print(y_pred_gaussian)"
   ]
  },
  {
   "cell_type": "code",
   "execution_count": 15,
   "id": "33bc2aa0",
   "metadata": {},
   "outputs": [],
   "source": [
    "from sklearn.metrics import accuracy_score, precision_score, recall_score, f1_score\n",
    "\n",
    "def Evaluate(y_test, y_pred):\n",
    "    accuracy = accuracy_score(y_test, y_pred)\n",
    "    precision = precision_score(y_test, y_pred)\n",
    "    recall = recall_score(y_test, y_pred)\n",
    "    f1 = f1_score(y_test, y_pred)\n",
    "    print(f\"Accuracy: {accuracy}\")\n",
    "    print(f\"Precision: {precision}\")\n",
    "    print(f\"Recall: {recall}\")\n",
    "    print(f\"F1-score: {f1}\")\n"
   ]
  },
  {
   "cell_type": "code",
   "execution_count": 16,
   "id": "1cab8eaa",
   "metadata": {
    "scrolled": true
   },
   "outputs": [
    {
     "name": "stdout",
     "output_type": "stream",
     "text": [
      "LogisticRegression:\n",
      "Accuracy: 0.8145\n",
      "Precision: 0.5982142857142857\n",
      "Recall: 0.17048346055979643\n",
      "F1-score: 0.2653465346534653\n",
      "\n",
      "K-Nearest Neighbors:\n",
      "Accuracy: 0.7995\n",
      "Precision: 0.4844961240310077\n",
      "Recall: 0.31806615776081426\n",
      "F1-score: 0.38402457757296465\n",
      "\n",
      "DecisionTree\n",
      "Accuracy: 0.781\n",
      "Precision: 0.4492099322799097\n",
      "Recall: 0.5063613231552163\n",
      "F1-score: 0.47607655502392343\n",
      "\n",
      "Gaussian:\n",
      "Accuracy: 0.8295\n",
      "Precision: 0.6884057971014492\n",
      "Recall: 0.24173027989821882\n",
      "F1-score: 0.3578154425612053\n"
     ]
    }
   ],
   "source": [
    "from sklearn.metrics import mean_absolute_error, mean_squared_error, r2_score\n",
    "\n",
    "# Evaluate Linear Regression\n",
    "print(\"LogisticRegression:\")\n",
    "Evaluate(y_test, y_pred_log)\n",
    "  \n",
    "# Evaluate K-Nearest Neighbors\n",
    "print(\"\\nK-Nearest Neighbors:\")\n",
    "Evaluate(y_test, y_pred_knn)\n",
    "\n",
    "# Evaluate DecisionTree\n",
    "print(\"\\nDecisionTree\")\n",
    "Evaluate(y_test, y_pred_tree)\n",
    "\n",
    "# Evaluate Gaussian\n",
    "print(\"\\nGaussian:\")\n",
    "Evaluate(y_test, y_pred_gaussian)\n"
   ]
  },
  {
   "cell_type": "markdown",
   "id": "64c92de1",
   "metadata": {},
   "source": [
    "# Ensemble Learing "
   ]
  },
  {
   "cell_type": "markdown",
   "id": "9efad5eb",
   "metadata": {},
   "source": [
    "### GradientBoostingClassifier"
   ]
  },
  {
   "cell_type": "code",
   "execution_count": 39,
   "id": "e927a7bb",
   "metadata": {
    "scrolled": true
   },
   "outputs": [
    {
     "name": "stdout",
     "output_type": "stream",
     "text": [
      "GradientBoostingClassifier:\n",
      "Accuracy: 0.856\n",
      "Precision: 0.6895306859205776\n",
      "Recall: 0.4860050890585242\n",
      "F1-score: 0.5701492537313433\n"
     ]
    }
   ],
   "source": [
    "from sklearn.ensemble import GradientBoostingClassifier\n",
    "clf_1 = GradientBoostingClassifier(n_estimators=100, learning_rate=1.0,max_depth=1, random_state=0).fit(x_train, y_train)\n",
    "y_pred= clf_1.predict(x_test)\n",
    "print(\"GradientBoostingClassifier:\")\n",
    "Evaluate(y_test, y_pred)"
   ]
  },
  {
   "cell_type": "markdown",
   "id": "aa2b78f8",
   "metadata": {},
   "source": [
    "### RandomForestClassifier"
   ]
  },
  {
   "cell_type": "code",
   "execution_count": 40,
   "id": "14541bc7",
   "metadata": {},
   "outputs": [
    {
     "name": "stdout",
     "output_type": "stream",
     "text": [
      "RandomForestClassifier:\n",
      "Accuracy: 0.8555\n",
      "Precision: 0.7363636363636363\n",
      "Recall: 0.4122137404580153\n",
      "F1-score: 0.5285481239804242\n"
     ]
    }
   ],
   "source": [
    "from sklearn.ensemble import RandomForestClassifier\n",
    "clf_2 = RandomForestClassifier(n_estimators=10, max_depth=None,min_samples_split=2, random_state=0).fit(x_train, y_train)\n",
    "y_pred= clf_2.predict(x_test)\n",
    "print(\"RandomForestClassifier:\")\n",
    "Evaluate(y_test, y_pred)"
   ]
  },
  {
   "cell_type": "markdown",
   "id": "6f44619c",
   "metadata": {},
   "source": [
    "### ExtraTreesClassifier"
   ]
  },
  {
   "cell_type": "code",
   "execution_count": 42,
   "id": "45c36d68",
   "metadata": {},
   "outputs": [
    {
     "name": "stdout",
     "output_type": "stream",
     "text": [
      "ExtraTreesClassifier:\n",
      "Accuracy: 0.851\n",
      "Precision: 0.7251184834123223\n",
      "Recall: 0.3893129770992366\n",
      "F1-score: 0.5066225165562914\n"
     ]
    }
   ],
   "source": [
    "from sklearn.ensemble import ExtraTreesClassifier\n",
    "clf_3 = ExtraTreesClassifier(n_estimators=10, max_depth=None,min_samples_split=2, random_state=0).fit(x_train, y_train)\n",
    "y_pred= clf_3.predict(x_test)\n",
    "print(\"ExtraTreesClassifier:\")\n",
    "Evaluate(y_test, y_pred)"
   ]
  },
  {
   "cell_type": "markdown",
   "id": "a7093afe",
   "metadata": {},
   "source": []
  },
  {
   "cell_type": "code",
   "execution_count": null,
   "id": "0253827b",
   "metadata": {},
   "outputs": [],
   "source": []
  },
  {
   "cell_type": "code",
   "execution_count": null,
   "id": "02ceebbc",
   "metadata": {},
   "outputs": [],
   "source": []
  },
  {
   "cell_type": "code",
   "execution_count": null,
   "id": "62f057d6",
   "metadata": {},
   "outputs": [],
   "source": []
  },
  {
   "cell_type": "markdown",
   "id": "c37ec339",
   "metadata": {},
   "source": []
  },
  {
   "cell_type": "code",
   "execution_count": null,
   "id": "0ac88657",
   "metadata": {},
   "outputs": [],
   "source": []
  },
  {
   "cell_type": "code",
   "execution_count": null,
   "id": "6b6d58fd",
   "metadata": {},
   "outputs": [],
   "source": []
  },
  {
   "cell_type": "code",
   "execution_count": null,
   "id": "55c8c636",
   "metadata": {},
   "outputs": [],
   "source": []
  },
  {
   "cell_type": "code",
   "execution_count": null,
   "id": "fcd51eaa",
   "metadata": {},
   "outputs": [],
   "source": []
  },
  {
   "cell_type": "code",
   "execution_count": null,
   "id": "9050ff1b",
   "metadata": {},
   "outputs": [],
   "source": []
  },
  {
   "cell_type": "code",
   "execution_count": null,
   "id": "4d0545e3",
   "metadata": {},
   "outputs": [],
   "source": []
  }
 ],
 "metadata": {
  "kernelspec": {
   "display_name": "Python 3 (ipykernel)",
   "language": "python",
   "name": "python3"
  },
  "language_info": {
   "codemirror_mode": {
    "name": "ipython",
    "version": 3
   },
   "file_extension": ".py",
   "mimetype": "text/x-python",
   "name": "python",
   "nbconvert_exporter": "python",
   "pygments_lexer": "ipython3",
   "version": "3.11.4"
  }
 },
 "nbformat": 4,
 "nbformat_minor": 5
}
